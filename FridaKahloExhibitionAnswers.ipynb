{
 "cells": [
  {
   "cell_type": "code",
   "execution_count": 36,
   "id": "fd708234",
   "metadata": {},
   "outputs": [],
   "source": [
    "paintings = [\"The Two Fridas\",\"My Dress Hangs Here\",\"Tree of Hope\",\"Self Portrait With Monkeys\"]"
   ]
  },
  {
   "cell_type": "code",
   "execution_count": 37,
   "id": "dd6c5c4f",
   "metadata": {},
   "outputs": [],
   "source": [
    "dates = [1939,1933,1946,1940]"
   ]
  },
  {
   "cell_type": "code",
   "execution_count": 38,
   "id": "853b7631",
   "metadata": {},
   "outputs": [],
   "source": [
    "paintings = list(zip(paintings,dates))"
   ]
  },
  {
   "cell_type": "code",
   "execution_count": 39,
   "id": "3f825aca",
   "metadata": {},
   "outputs": [
    {
     "name": "stdout",
     "output_type": "stream",
     "text": [
      "[('The Two Fridas', 1939), ('My Dress Hangs Here', 1933), ('Tree of Hope', 1946), ('Self Portrait With Monkeys', 1940)]\n"
     ]
    }
   ],
   "source": [
    "print(paintings)"
   ]
  },
  {
   "cell_type": "code",
   "execution_count": 40,
   "id": "b41ec52a",
   "metadata": {},
   "outputs": [],
   "source": [
    "paintings.append((\"The Broken Column\",1944))\n",
    "paintings.append((\"The Wounded Deer\",1946))\n",
    "paintings.append((\"Me and My Doll\",1937))"
   ]
  },
  {
   "cell_type": "code",
   "execution_count": 41,
   "id": "04767a72",
   "metadata": {},
   "outputs": [
    {
     "name": "stdout",
     "output_type": "stream",
     "text": [
      "[('The Two Fridas', 1939), ('My Dress Hangs Here', 1933), ('Tree of Hope', 1946), ('Self Portrait With Monkeys', 1940), ('The Broken Column', 1944), ('The Wounded Deer', 1946), ('Me and My Doll', 1937)]\n"
     ]
    }
   ],
   "source": [
    "print(paintings)"
   ]
  },
  {
   "cell_type": "code",
   "execution_count": 42,
   "id": "7d109cbf",
   "metadata": {},
   "outputs": [
    {
     "data": {
      "text/plain": [
       "7"
      ]
     },
     "execution_count": 42,
     "metadata": {},
     "output_type": "execute_result"
    }
   ],
   "source": [
    "len(paintings)"
   ]
  },
  {
   "cell_type": "code",
   "execution_count": 43,
   "id": "5617821a",
   "metadata": {},
   "outputs": [],
   "source": [
    "audio_tour_number = [num for num in range(1,(len(paintings)+1))]"
   ]
  },
  {
   "cell_type": "code",
   "execution_count": 44,
   "id": "2b4e8bab",
   "metadata": {},
   "outputs": [
    {
     "name": "stdout",
     "output_type": "stream",
     "text": [
      "[1, 2, 3, 4, 5, 6, 7]\n"
     ]
    }
   ],
   "source": [
    "print(audio_tour_number)"
   ]
  },
  {
   "cell_type": "code",
   "execution_count": 45,
   "id": "266ba678",
   "metadata": {},
   "outputs": [
    {
     "name": "stdout",
     "output_type": "stream",
     "text": [
      "[(1, ('The Two Fridas', 1939)), (2, ('My Dress Hangs Here', 1933)), (3, ('Tree of Hope', 1946)), (4, ('Self Portrait With Monkeys', 1940)), (5, ('The Broken Column', 1944)), (6, ('The Wounded Deer', 1946)), (7, ('Me and My Doll', 1937))]\n"
     ]
    }
   ],
   "source": [
    "master_list = list(zip(audio_tour_number,paintings))\n",
    "print(master_list)"
   ]
  },
  {
   "cell_type": "code",
   "execution_count": null,
   "id": "633f4033",
   "metadata": {},
   "outputs": [],
   "source": []
  }
 ],
 "metadata": {
  "kernelspec": {
   "display_name": "Python 3 (ipykernel)",
   "language": "python",
   "name": "python3"
  },
  "language_info": {
   "codemirror_mode": {
    "name": "ipython",
    "version": 3
   },
   "file_extension": ".py",
   "mimetype": "text/x-python",
   "name": "python",
   "nbconvert_exporter": "python",
   "pygments_lexer": "ipython3",
   "version": "3.10.11"
  }
 },
 "nbformat": 4,
 "nbformat_minor": 5
}
